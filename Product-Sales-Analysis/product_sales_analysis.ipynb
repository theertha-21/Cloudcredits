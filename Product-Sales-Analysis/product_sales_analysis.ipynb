{
 "cells": [
  {
   "cell_type": "markdown",
   "id": "4f682998-679e-4b83-b309-598b8294ec6a",
   "metadata": {},
   "source": [
    "#  Product-Sales-Analysis"
   ]
  },
  {
   "cell_type": "markdown",
   "id": "28de840c-17be-4d8e-bf7e-26af7b0e2fb1",
   "metadata": {},
   "source": [
    "## 1. Objective\n",
    "Analyze sales data to uncover customer behavior and sales trends."
   ]
  },
  {
   "cell_type": "markdown",
   "id": "b1937bc8-0f39-4b7d-bd97-9872aa84d893",
   "metadata": {},
   "source": [
    "## 2. Data Acquisition\n",
    "Load and inspect the dataset to understand its structure."
   ]
  },
  {
   "cell_type": "code",
   "execution_count": 18,
   "id": "695ba211-575e-4d1d-980f-4fb8675bc794",
   "metadata": {
    "scrolled": true
   },
   "outputs": [
    {
     "data": {
      "text/html": [
       "<div>\n",
       "<style scoped>\n",
       "    .dataframe tbody tr th:only-of-type {\n",
       "        vertical-align: middle;\n",
       "    }\n",
       "\n",
       "    .dataframe tbody tr th {\n",
       "        vertical-align: top;\n",
       "    }\n",
       "\n",
       "    .dataframe thead th {\n",
       "        text-align: right;\n",
       "    }\n",
       "</style>\n",
       "<table border=\"1\" class=\"dataframe\">\n",
       "  <thead>\n",
       "    <tr style=\"text-align: right;\">\n",
       "      <th></th>\n",
       "      <th>Name</th>\n",
       "      <th>Email</th>\n",
       "      <th>Product</th>\n",
       "      <th>Transaction Date</th>\n",
       "    </tr>\n",
       "  </thead>\n",
       "  <tbody>\n",
       "    <tr>\n",
       "      <th>0</th>\n",
       "      <td>PERSON_1</td>\n",
       "      <td>PERSON_1@gmail.com</td>\n",
       "      <td>PRODUCT_75</td>\n",
       "      <td>01/03/2021 00:47:26</td>\n",
       "    </tr>\n",
       "    <tr>\n",
       "      <th>1</th>\n",
       "      <td>PERSON_2</td>\n",
       "      <td>PERSON_2@tataprojects.com</td>\n",
       "      <td>PRODUCT_75</td>\n",
       "      <td>01/03/2021 02:04:07</td>\n",
       "    </tr>\n",
       "    <tr>\n",
       "      <th>2</th>\n",
       "      <td>PERSON_3</td>\n",
       "      <td>PERSON_3@gmail.com</td>\n",
       "      <td>PRODUCT_63</td>\n",
       "      <td>01/03/2021 09:10:43</td>\n",
       "    </tr>\n",
       "    <tr>\n",
       "      <th>3</th>\n",
       "      <td>PERSON_4</td>\n",
       "      <td>PERSON_4@gmail.com</td>\n",
       "      <td>PRODUCT_63</td>\n",
       "      <td>01/03/2021 09:49:48</td>\n",
       "    </tr>\n",
       "    <tr>\n",
       "      <th>4</th>\n",
       "      <td>PERSON_5</td>\n",
       "      <td>PERSON_5@gmail.com</td>\n",
       "      <td>PRODUCT_34,PRODUCT_86,PRODUCT_57,PRODUCT_89</td>\n",
       "      <td>01/03/2021 10:56:46</td>\n",
       "    </tr>\n",
       "  </tbody>\n",
       "</table>\n",
       "</div>"
      ],
      "text/plain": [
       "       Name                      Email  \\\n",
       "0  PERSON_1         PERSON_1@gmail.com   \n",
       "1  PERSON_2  PERSON_2@tataprojects.com   \n",
       "2  PERSON_3         PERSON_3@gmail.com   \n",
       "3  PERSON_4         PERSON_4@gmail.com   \n",
       "4  PERSON_5         PERSON_5@gmail.com   \n",
       "\n",
       "                                       Product     Transaction Date  \n",
       "0                                   PRODUCT_75  01/03/2021 00:47:26  \n",
       "1                                   PRODUCT_75  01/03/2021 02:04:07  \n",
       "2                                   PRODUCT_63  01/03/2021 09:10:43  \n",
       "3                                   PRODUCT_63  01/03/2021 09:49:48  \n",
       "4  PRODUCT_34,PRODUCT_86,PRODUCT_57,PRODUCT_89  01/03/2021 10:56:46  "
      ]
     },
     "execution_count": 18,
     "metadata": {},
     "output_type": "execute_result"
    }
   ],
   "source": [
    "import pandas as pd\n",
    "import matplotlib.pyplot as plt\n",
    "\n",
    "df = pd.read_csv('Order_details(masked).csv')\n",
    "df.head()"
   ]
  },
  {
   "cell_type": "code",
   "execution_count": 17,
   "id": "90dce191-ef6c-4b85-9018-7a5c1fe2cf76",
   "metadata": {},
   "outputs": [
    {
     "name": "stdout",
     "output_type": "stream",
     "text": [
      "<class 'pandas.core.frame.DataFrame'>\n",
      "RangeIndex: 581 entries, 0 to 580\n",
      "Data columns (total 4 columns):\n",
      " #   Column            Non-Null Count  Dtype \n",
      "---  ------            --------------  ----- \n",
      " 0   Name              581 non-null    object\n",
      " 1   Email             581 non-null    object\n",
      " 2   Product           581 non-null    object\n",
      " 3   Transaction Date  581 non-null    object\n",
      "dtypes: object(4)\n",
      "memory usage: 18.3+ KB\n"
     ]
    }
   ],
   "source": [
    "df.info()"
   ]
  },
  {
   "cell_type": "markdown",
   "id": "f86e2ec4-595f-4101-a19d-20ebd3eb4808",
   "metadata": {},
   "source": [
    "## 3. Data Cleaning and Preparation\n",
    "Convert date columns to datetime format and clean product names."
   ]
  },
  {
   "cell_type": "code",
   "execution_count": 4,
   "id": "31e08c88-2f79-4020-af3c-09fac30e5894",
   "metadata": {},
   "outputs": [
    {
     "data": {
      "text/html": [
       "<div>\n",
       "<style scoped>\n",
       "    .dataframe tbody tr th:only-of-type {\n",
       "        vertical-align: middle;\n",
       "    }\n",
       "\n",
       "    .dataframe tbody tr th {\n",
       "        vertical-align: top;\n",
       "    }\n",
       "\n",
       "    .dataframe thead th {\n",
       "        text-align: right;\n",
       "    }\n",
       "</style>\n",
       "<table border=\"1\" class=\"dataframe\">\n",
       "  <thead>\n",
       "    <tr style=\"text-align: right;\">\n",
       "      <th></th>\n",
       "      <th>Name</th>\n",
       "      <th>Email</th>\n",
       "      <th>Product</th>\n",
       "      <th>Transaction Date</th>\n",
       "    </tr>\n",
       "  </thead>\n",
       "  <tbody>\n",
       "    <tr>\n",
       "      <th>0</th>\n",
       "      <td>PERSON_1</td>\n",
       "      <td>PERSON_1@gmail.com</td>\n",
       "      <td>PRODUCT_75</td>\n",
       "      <td>2021-01-03 00:47:26</td>\n",
       "    </tr>\n",
       "    <tr>\n",
       "      <th>1</th>\n",
       "      <td>PERSON_2</td>\n",
       "      <td>PERSON_2@tataprojects.com</td>\n",
       "      <td>PRODUCT_75</td>\n",
       "      <td>2021-01-03 02:04:07</td>\n",
       "    </tr>\n",
       "    <tr>\n",
       "      <th>2</th>\n",
       "      <td>PERSON_3</td>\n",
       "      <td>PERSON_3@gmail.com</td>\n",
       "      <td>PRODUCT_63</td>\n",
       "      <td>2021-01-03 09:10:43</td>\n",
       "    </tr>\n",
       "    <tr>\n",
       "      <th>3</th>\n",
       "      <td>PERSON_4</td>\n",
       "      <td>PERSON_4@gmail.com</td>\n",
       "      <td>PRODUCT_63</td>\n",
       "      <td>2021-01-03 09:49:48</td>\n",
       "    </tr>\n",
       "    <tr>\n",
       "      <th>4</th>\n",
       "      <td>PERSON_5</td>\n",
       "      <td>PERSON_5@gmail.com</td>\n",
       "      <td>PRODUCT_34,PRODUCT_86,PRODUCT_57,PRODUCT_89</td>\n",
       "      <td>2021-01-03 10:56:46</td>\n",
       "    </tr>\n",
       "  </tbody>\n",
       "</table>\n",
       "</div>"
      ],
      "text/plain": [
       "       Name                      Email  \\\n",
       "0  PERSON_1         PERSON_1@gmail.com   \n",
       "1  PERSON_2  PERSON_2@tataprojects.com   \n",
       "2  PERSON_3         PERSON_3@gmail.com   \n",
       "3  PERSON_4         PERSON_4@gmail.com   \n",
       "4  PERSON_5         PERSON_5@gmail.com   \n",
       "\n",
       "                                       Product    Transaction Date  \n",
       "0                                   PRODUCT_75 2021-01-03 00:47:26  \n",
       "1                                   PRODUCT_75 2021-01-03 02:04:07  \n",
       "2                                   PRODUCT_63 2021-01-03 09:10:43  \n",
       "3                                   PRODUCT_63 2021-01-03 09:49:48  \n",
       "4  PRODUCT_34,PRODUCT_86,PRODUCT_57,PRODUCT_89 2021-01-03 10:56:46  "
      ]
     },
     "execution_count": 4,
     "metadata": {},
     "output_type": "execute_result"
    }
   ],
   "source": [
    "df['Transaction Date'] = pd.to_datetime(df['Transaction Date'])\n",
    "df.head()\n"
   ]
  },
  {
   "cell_type": "code",
   "execution_count": 5,
   "id": "34b528ac-27c1-4501-be58-31f835b7e857",
   "metadata": {
    "scrolled": true
   },
   "outputs": [
    {
     "name": "stdout",
     "output_type": "stream",
     "text": [
      "Name                0\n",
      "Email               0\n",
      "Product             0\n",
      "Transaction Date    0\n",
      "dtype: int64\n"
     ]
    }
   ],
   "source": [
    "print(df.isnull().sum())"
   ]
  },
  {
   "cell_type": "code",
   "execution_count": 6,
   "id": "b2636c2c-b1f3-4d3f-b0fc-5e6eb3daa821",
   "metadata": {},
   "outputs": [
    {
     "data": {
      "text/html": [
       "<div>\n",
       "<style scoped>\n",
       "    .dataframe tbody tr th:only-of-type {\n",
       "        vertical-align: middle;\n",
       "    }\n",
       "\n",
       "    .dataframe tbody tr th {\n",
       "        vertical-align: top;\n",
       "    }\n",
       "\n",
       "    .dataframe thead th {\n",
       "        text-align: right;\n",
       "    }\n",
       "</style>\n",
       "<table border=\"1\" class=\"dataframe\">\n",
       "  <thead>\n",
       "    <tr style=\"text-align: right;\">\n",
       "      <th></th>\n",
       "      <th>Name</th>\n",
       "      <th>Email</th>\n",
       "      <th>Product</th>\n",
       "      <th>Transaction Date</th>\n",
       "    </tr>\n",
       "  </thead>\n",
       "  <tbody>\n",
       "    <tr>\n",
       "      <th>0</th>\n",
       "      <td>PERSON_1</td>\n",
       "      <td>PERSON_1@gmail.com</td>\n",
       "      <td>product_75</td>\n",
       "      <td>2021-01-03 00:47:26</td>\n",
       "    </tr>\n",
       "    <tr>\n",
       "      <th>1</th>\n",
       "      <td>PERSON_2</td>\n",
       "      <td>PERSON_2@tataprojects.com</td>\n",
       "      <td>product_75</td>\n",
       "      <td>2021-01-03 02:04:07</td>\n",
       "    </tr>\n",
       "    <tr>\n",
       "      <th>2</th>\n",
       "      <td>PERSON_3</td>\n",
       "      <td>PERSON_3@gmail.com</td>\n",
       "      <td>product_63</td>\n",
       "      <td>2021-01-03 09:10:43</td>\n",
       "    </tr>\n",
       "    <tr>\n",
       "      <th>3</th>\n",
       "      <td>PERSON_4</td>\n",
       "      <td>PERSON_4@gmail.com</td>\n",
       "      <td>product_63</td>\n",
       "      <td>2021-01-03 09:49:48</td>\n",
       "    </tr>\n",
       "    <tr>\n",
       "      <th>4</th>\n",
       "      <td>PERSON_5</td>\n",
       "      <td>PERSON_5@gmail.com</td>\n",
       "      <td>product_34,product_86,product_57,product_89</td>\n",
       "      <td>2021-01-03 10:56:46</td>\n",
       "    </tr>\n",
       "  </tbody>\n",
       "</table>\n",
       "</div>"
      ],
      "text/plain": [
       "       Name                      Email  \\\n",
       "0  PERSON_1         PERSON_1@gmail.com   \n",
       "1  PERSON_2  PERSON_2@tataprojects.com   \n",
       "2  PERSON_3         PERSON_3@gmail.com   \n",
       "3  PERSON_4         PERSON_4@gmail.com   \n",
       "4  PERSON_5         PERSON_5@gmail.com   \n",
       "\n",
       "                                       Product    Transaction Date  \n",
       "0                                   product_75 2021-01-03 00:47:26  \n",
       "1                                   product_75 2021-01-03 02:04:07  \n",
       "2                                   product_63 2021-01-03 09:10:43  \n",
       "3                                   product_63 2021-01-03 09:49:48  \n",
       "4  product_34,product_86,product_57,product_89 2021-01-03 10:56:46  "
      ]
     },
     "execution_count": 6,
     "metadata": {},
     "output_type": "execute_result"
    }
   ],
   "source": [
    "df['Product'] = df['Product'].str.strip().str.lower()\n",
    "df.head()"
   ]
  },
  {
   "cell_type": "markdown",
   "id": "3c650402-0576-49bb-90c3-60ec61d5139a",
   "metadata": {},
   "source": [
    "## 4. Exploratory Data Analysis (EDA)\n",
    "- Calculate unique and repeat customers\n",
    "- Identify top products\n",
    "- Analyze sales trends by day and month"
   ]
  },
  {
   "cell_type": "code",
   "execution_count": 7,
   "id": "ff7c2f30-809a-4e25-a080-4a21cfd9ef88",
   "metadata": {},
   "outputs": [
    {
     "name": "stdout",
     "output_type": "stream",
     "text": [
      "Unique customers: 525\n"
     ]
    }
   ],
   "source": [
    "unique_customers = df['Email'].nunique()\n",
    "print(f'Unique customers: {unique_customers}')"
   ]
  },
  {
   "cell_type": "markdown",
   "id": "085871f6-e700-420d-839b-a3dc7ac0352b",
   "metadata": {},
   "source": [
    "#### Number of repeat customers (customers with more than one purchase)"
   ]
  },
  {
   "cell_type": "code",
   "execution_count": 8,
   "id": "5c4f1d79-c353-4941-816b-0a84b6726a8a",
   "metadata": {
    "scrolled": true
   },
   "outputs": [
    {
     "name": "stdout",
     "output_type": "stream",
     "text": [
      "Repeat customers: 47\n"
     ]
    }
   ],
   "source": [
    "repeat_customers = df['Email'].value_counts()\n",
    "repeat_customers = repeat_customers[repeat_customers > 1].count()\n",
    "print(f'Repeat customers: {repeat_customers}')"
   ]
  },
  {
   "cell_type": "markdown",
   "id": "c33dbc2d-34bb-4a5d-8b7f-712cdc071d8a",
   "metadata": {},
   "source": [
    "### Top 10 most purchased products"
   ]
  },
  {
   "cell_type": "code",
   "execution_count": 9,
   "id": "1bdecd56-f004-4847-b4cd-c7da611c689a",
   "metadata": {},
   "outputs": [
    {
     "data": {
      "image/png": "[encoded data removed]",
      "text/plain": [
       "<Figure size 1000x600 with 1 Axes>"
      ]
     },
     "metadata": {},
     "output_type": "display_data"
    }
   ],
   "source": [
    "top_products = df['Product'].value_counts().head(10)\n",
    "\n",
    "\n",
    "\n",
    "plt.figure(figsize=(10,6))\n",
    "top_products.plot(kind='bar', color='skyblue')\n",
    "plt.title('Top 10 Most Purchased Products')\n",
    "plt.xlabel('Product')\n",
    "plt.ylabel('Number of Purchases')\n",
    "plt.xticks(rotation=45)\n",
    "plt.tight_layout()\n",
    "plt.show()\n"
   ]
  },
  {
   "cell_type": "markdown",
   "id": "bfd82b4c-e221-4c4b-9dd2-beb567acbebc",
   "metadata": {},
   "source": [
    "### Daily sales trend"
   ]
  },
  {
   "cell_type": "code",
   "execution_count": 10,
   "id": "69dca221-8c49-4808-9028-7ab546d61d99",
   "metadata": {},
   "outputs": [
    {
     "data": {
      "image/png": "[encoded data removed]",
      "text/plain": [
       "<Figure size 1000x600 with 1 Axes>"
      ]
     },
     "metadata": {},
     "output_type": "display_data"
    }
   ],
   "source": [
    "\n",
    "daily_sales = df.groupby(df['Transaction Date'].dt.date).size()\n",
    "\n",
    "\n",
    "plt.figure(figsize=(10,6))\n",
    "daily_sales.plot(kind='line', color='orange')\n",
    "plt.title('Daily Sales Trend')\n",
    "plt.xlabel('Date')\n",
    "plt.ylabel('Number of Purchases')\n",
    "plt.tight_layout()\n",
    "plt.show()\n"
   ]
  },
  {
   "cell_type": "markdown",
   "id": "769ccfc0-a284-4934-9a5b-13c0f66303be",
   "metadata": {},
   "source": [
    "### Monthly sales trend"
   ]
  },
  {
   "cell_type": "code",
   "execution_count": 11,
   "id": "badb0bc2-8249-4056-8d05-49402aa17bc3",
   "metadata": {
    "scrolled": true
   },
   "outputs": [
    {
     "data": {
      "image/png": "[encoded data removed]",
      "text/plain": [
       "<Figure size 1000x600 with 1 Axes>"
      ]
     },
     "metadata": {},
     "output_type": "display_data"
    }
   ],
   "source": [
    "monthly_sales = df.groupby(df['Transaction Date'].dt.to_period('M')).size()\n",
    "\n",
    "\n",
    "plt.figure(figsize=(10,6))\n",
    "monthly_sales.plot(kind='bar', color='green')\n",
    "plt.title('Monthly Sales Trend')\n",
    "plt.xlabel('Month')\n",
    "plt.ylabel('Number of Purchases')\n",
    "plt.xticks(rotation=45)\n",
    "plt.tight_layout()\n",
    "plt.show()\n"
   ]
  },
  {
   "cell_type": "markdown",
   "id": "dbc265cc-71d3-4bc9-b3ef-c12f475e8229",
   "metadata": {},
   "source": [
    "## 5. Insights and Recommendations\n",
    "Summarize key findings and suggest next steps."
   ]
  },
  {
   "cell_type": "code",
   "execution_count": 12,
   "id": "5b4be5e2-6ded-4386-8d26-03008aacfe3c",
   "metadata": {},
   "outputs": [
    {
     "name": "stdout",
     "output_type": "stream",
     "text": [
      "\n",
      "--- Summary of Insights ---\n",
      "Total unique products: 252\n",
      "Top product: Product_75 with 74 purchases\n",
      "Peak sales day: 2021-07-03 with 144 purchases\n"
     ]
    }
   ],
   "source": [
    "print(\"\\n--- Summary of Insights ---\")\n",
    "print(f\"Total unique products: {df['Product'].nunique()}\")\n",
    "print(f\"Top product: {top_products.index[0].title()} with {top_products.iloc[0]} purchases\")\n",
    "print(f\"Peak sales day: {daily_sales.idxmax()} with {daily_sales.max()} purchases\")"
   ]
  },
  {
   "cell_type": "markdown",
   "id": "7f1ec8a2-f9fa-42fc-b0d7-4bf8e0a6344a",
   "metadata": {},
   "source": [
    "## 6. Conclusion\n",
    "Wrap up the analysis and mention potential future improvements."
   ]
  },
  {
   "cell_type": "code",
   "execution_count": 13,
   "id": "c9a466b0-beee-4494-b2bb-0e19ba6ca933",
   "metadata": {},
   "outputs": [
    {
     "name": "stdout",
     "output_type": "stream",
     "text": [
      "\n",
      "--- Recommendations ---\n",
      "1. Focus marketing efforts on the top products to boost sales further.\n",
      "2. Investigate peak sales days and plan promotional campaigns accordingly.\n",
      "3. Encourage repeat customers with loyalty programs to increase sales.\n"
     ]
    }
   ],
   "source": [
    "print(\"\\n--- Recommendations ---\")\n",
    "print(\"1. Focus marketing efforts on the top products to boost sales further.\")\n",
    "print(\"2. Investigate peak sales days and plan promotional campaigns accordingly.\")\n",
    "print(\"3. Encourage repeat customers with loyalty programs to increase sales.\")\n"
   ]
  },
  {
   "cell_type": "code",
   "execution_count": null,
   "id": "bedc8609-d0d4-42dc-acad-a5ea9fcd49cb",
   "metadata": {},
   "outputs": [],
   "source": []
  }
 ],
 "metadata": {
  "kernelspec": {
   "display_name": "Python 3 (ipykernel)",
   "language": "python",
   "name": "python3"
  },
  "language_info": {
   "codemirror_mode": {
    "name": "ipython",
    "version": 3
   },
   "file_extension": ".py",
   "mimetype": "text/x-python",
   "name": "python",
   "nbconvert_exporter": "python",
   "pygments_lexer": "ipython3",
   "version": "3.12.7"
  }
 },
 "nbformat": 4,
 "nbformat_minor": 5
}
